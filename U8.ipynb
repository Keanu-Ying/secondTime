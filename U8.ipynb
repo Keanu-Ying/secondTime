{
 "cells": [
  {
   "cell_type": "code",
   "execution_count": 85,
   "id": "9f490f50-b1d6-435f-81a1-68b74477ffac",
   "metadata": {},
   "outputs": [
    {
     "name": "stdout",
     "output_type": "stream",
     "text": [
      "The jupyter_black extension is already loaded. To reload it, use:\n",
      "  %reload_ext jupyter_black\n"
     ]
    }
   ],
   "source": [
    "# 启动black格式化\n",
    "%load_ext jupyter_black"
   ]
  },
  {
   "cell_type": "markdown",
   "id": "f02dc560-af80-456f-9afc-c431b6f2125e",
   "metadata": {},
   "source": [
    "下面这段代码不能运行   会无限循环  就是每次加入一个  clothes都会更新 加一个多遍历一个  完了你每次加的肯定是包含指定元素的"
   ]
  },
  {
   "cell_type": "code",
   "execution_count": null,
   "id": "955f925c-843e-4f57-b27b-0cea0997a7b5",
   "metadata": {},
   "outputs": [],
   "source": [
    "clothes = ['skirt','red sock']\n",
    "for clothing in clothes:\n",
    "    # print('?')\n",
    "    if 'sock' in clothing:\n",
    "        clothes.append(clothing)\n",
    "        print('加入一个袜子',clothing)"
   ]
  },
  {
   "cell_type": "markdown",
   "id": "be674b95-3ccb-4421-bda3-41b023ebd8cf",
   "metadata": {},
   "source": [
    "关键在于  单独列表作为修改后的"
   ]
  },
  {
   "cell_type": "code",
   "execution_count": 6,
   "id": "d84712aa-a07f-490b-9b8c-028937071e61",
   "metadata": {},
   "outputs": [
    {
     "name": "stdout",
     "output_type": "stream",
     "text": [
      "加入一个袜子 red sock\n",
      "['skirt', 'red sock', 'red sock']\n"
     ]
    }
   ],
   "source": [
    "clothes = [\"skirt\", \"red sock\"]\n",
    "new = []\n",
    "for clothing in clothes:\n",
    "    if \"sock\" in clothing:\n",
    "        new.append(clothing)\n",
    "        print(\"加入一个袜子\", clothing)\n",
    "\n",
    "clothes.extend(new)\n",
    "print(clothes)"
   ]
  },
  {
   "cell_type": "markdown",
   "id": "23ca4242-22aa-44a5-9111-e23f69c58f46",
   "metadata": {},
   "source": [
    " 同理  也不能在循环中删除不要的对象  因为后面如果紧跟着另一个排除对象 那那个的index就会前置  你检索不到  \n",
    " 需要做的就是把要留下的复制过去"
   ]
  },
  {
   "cell_type": "code",
   "execution_count": 10,
   "id": "6fb91ea0-5cac-49c5-a5f6-b29b3470ae7f",
   "metadata": {},
   "outputs": [
    {
     "name": "stdout",
     "output_type": "stream",
     "text": [
      "['aaa', 'aaa']\n"
     ]
    }
   ],
   "source": [
    "g = [\"aaa\", \"bbb\", \"aaa\"]\n",
    "new_list = []\n",
    "\n",
    "for i in g:\n",
    "    if i == \"aaa\":\n",
    "        new_list.append(i)\n",
    "\n",
    "print(new_list)"
   ]
  },
  {
   "cell_type": "markdown",
   "id": "0956141a-a341-4e89-bc23-f37400b8a915",
   "metadata": {},
   "source": [
    "程序员的时间比计算机的内存值钱得多"
   ]
  },
  {
   "cell_type": "code",
   "execution_count": 15,
   "id": "fff721f8-466c-4df0-b93b-e03b69b9acae",
   "metadata": {},
   "outputs": [
    {
     "data": {
      "text/plain": [
       "44"
      ]
     },
     "execution_count": 15,
     "metadata": {},
     "output_type": "execute_result"
    }
   ],
   "source": [
    "import sys\n",
    "\n",
    "sys.getsizeof(\"cat\")"
   ]
  },
  {
   "cell_type": "code",
   "execution_count": 19,
   "id": "0f660578-4b12-4a78-800e-45f848ee5322",
   "metadata": {},
   "outputs": [
    {
     "data": {
      "text/plain": [
       "85"
      ]
     },
     "execution_count": 19,
     "metadata": {},
     "output_type": "execute_result"
    }
   ],
   "source": [
    "sys.getsizeof(\"much longer than just cat1231231231231231231\")"
   ]
  },
  {
   "cell_type": "code",
   "execution_count": 21,
   "id": "3bf4aae6-fd7c-4e3a-9263-55917980846e",
   "metadata": {},
   "outputs": [
    {
     "data": {
      "text/plain": [
       "64"
      ]
     },
     "execution_count": 21,
     "metadata": {},
     "output_type": "execute_result"
    }
   ],
   "source": [
    "sys.getsizeof([\"cat\"])"
   ]
  },
  {
   "cell_type": "code",
   "execution_count": 25,
   "id": "ff1744f2-2cfb-4e31-9c61-5f96a364c0db",
   "metadata": {},
   "outputs": [
    {
     "data": {
      "text/plain": [
       "64"
      ]
     },
     "execution_count": 25,
     "metadata": {},
     "output_type": "execute_result"
    }
   ],
   "source": [
    "sys.getsizeof([\"much longer than just cat1231231231231231231\"])"
   ]
  },
  {
   "cell_type": "markdown",
   "id": "f724d67e-c48b-48a1-a566-1289ca4638cb",
   "metadata": {},
   "source": [
    "[]  只是对字符串的引用  虽然增删不行，但是修改时可以的  真要删除也可以  从列表尾部从后往前迭代  \n",
    "不过正如py核心开发者说的  循环列表时修改列表的最佳实践 是别改"
   ]
  },
  {
   "cell_type": "code",
   "execution_count": 29,
   "id": "9b1119a0-9f54-4311-9353-d106bd90fcc4",
   "metadata": {},
   "outputs": [
    {
     "data": {
      "text/plain": [
       "[1, 2]"
      ]
     },
     "execution_count": 29,
     "metadata": {},
     "output_type": "execute_result"
    }
   ],
   "source": [
    "numbers = [\"1\", \"2\"]\n",
    "for i, number in enumerate(numbers):\n",
    "    numbers[i] = int(number)\n",
    "\n",
    "numbers"
   ]
  },
  {
   "cell_type": "code",
   "execution_count": 37,
   "id": "1235a5ea-e5b5-4202-94f3-263b0bc57a76",
   "metadata": {},
   "outputs": [
    {
     "data": {
      "text/plain": [
       "[1, 7, 5]"
      ]
     },
     "execution_count": 37,
     "metadata": {},
     "output_type": "execute_result"
    }
   ],
   "source": [
    "someInts = [1, 7, 4, 5]\n",
    "for i in range(len(someInts) - 1, -1, -1):\n",
    "    if someInts[i] % 2 == 0:\n",
    "        del someInts[i]\n",
    "\n",
    "someInts"
   ]
  },
  {
   "cell_type": "markdown",
   "id": "6e432218-9d49-4e21-976a-15a09d93e9e3",
   "metadata": {},
   "source": [
    "#### 复制可变值  一定使用 copy.copy()   copy.deepcopy()    在python语句中  赋值从来不会复制对象 对象只是一个 指向对象的标签"
   ]
  },
  {
   "cell_type": "code",
   "execution_count": 41,
   "id": "345e3c4c-55f1-44a8-b22a-a79e1dc4b63b",
   "metadata": {},
   "outputs": [],
   "source": [
    "spam = [\"cat\", \"dog\"]\n",
    "cheese = spam"
   ]
  },
  {
   "cell_type": "code",
   "execution_count": 43,
   "id": "65b979e5-920d-42ca-8896-3306d40c4b63",
   "metadata": {},
   "outputs": [
    {
     "data": {
      "text/plain": [
       "['cat', 'dog']"
      ]
     },
     "execution_count": 43,
     "metadata": {},
     "output_type": "execute_result"
    }
   ],
   "source": [
    "spam"
   ]
  },
  {
   "cell_type": "code",
   "execution_count": 45,
   "id": "82893a30-c8e8-4c28-bd13-a4878cd34edc",
   "metadata": {},
   "outputs": [
    {
     "data": {
      "text/plain": [
       "['cat', 'dog']"
      ]
     },
     "execution_count": 45,
     "metadata": {},
     "output_type": "execute_result"
    }
   ],
   "source": [
    "cheese"
   ]
  },
  {
   "cell_type": "code",
   "execution_count": 49,
   "id": "bab87cbf-d1e2-441a-a97e-12f947bea91d",
   "metadata": {},
   "outputs": [
    {
     "data": {
      "text/plain": [
       "['cat', 'moose']"
      ]
     },
     "execution_count": 49,
     "metadata": {},
     "output_type": "execute_result"
    }
   ],
   "source": [
    "spam[1] = \"moose\"\n",
    "spam"
   ]
  },
  {
   "cell_type": "code",
   "execution_count": 51,
   "id": "b8626937-d1df-405e-af41-d58f3e3748e0",
   "metadata": {},
   "outputs": [
    {
     "data": {
      "text/plain": [
       "['cat', 'moose']"
      ]
     },
     "execution_count": 51,
     "metadata": {},
     "output_type": "execute_result"
    }
   ],
   "source": [
    "cheese"
   ]
  },
  {
   "cell_type": "code",
   "execution_count": 53,
   "id": "54e768e0-8e21-46de-9339-ce404ba54889",
   "metadata": {},
   "outputs": [
    {
     "data": {
      "text/plain": [
       "2275957504000"
      ]
     },
     "execution_count": 53,
     "metadata": {},
     "output_type": "execute_result"
    }
   ],
   "source": [
    "id(cheese)"
   ]
  },
  {
   "cell_type": "code",
   "execution_count": 55,
   "id": "21239277-a35c-47c6-9cd3-f73b4dd88e51",
   "metadata": {},
   "outputs": [
    {
     "data": {
      "text/plain": [
       "2275957504000"
      ]
     },
     "execution_count": 55,
     "metadata": {},
     "output_type": "execute_result"
    }
   ],
   "source": [
    "id(spam)"
   ]
  },
  {
   "cell_type": "code",
   "execution_count": 57,
   "id": "dcb0cbd3-41e9-45d6-bfcb-0ded9aebd015",
   "metadata": {},
   "outputs": [],
   "source": [
    "import copy\n",
    "\n",
    "bacon = [2, 3]\n",
    "ham = copy.copy(bacon)"
   ]
  },
  {
   "cell_type": "code",
   "execution_count": 59,
   "id": "64209129-d84d-457f-81fa-d88e56a8ec53",
   "metadata": {},
   "outputs": [
    {
     "data": {
      "text/plain": [
       "(2275958131968, 2275958044224)"
      ]
     },
     "execution_count": 59,
     "metadata": {},
     "output_type": "execute_result"
    }
   ],
   "source": [
    "id(bacon), id(ham)"
   ]
  },
  {
   "cell_type": "code",
   "execution_count": 61,
   "id": "ba278f83-e730-46f8-8512-94a9577c6b90",
   "metadata": {},
   "outputs": [
    {
     "data": {
      "text/plain": [
       "['change', 3]"
      ]
     },
     "execution_count": 61,
     "metadata": {},
     "output_type": "execute_result"
    }
   ],
   "source": [
    "bacon[0] = \"change\"\n",
    "bacon"
   ]
  },
  {
   "cell_type": "code",
   "execution_count": 63,
   "id": "c274c718-55b0-4e87-86b9-77a2ff3b6b81",
   "metadata": {},
   "outputs": [
    {
     "data": {
      "text/plain": [
       "[2, 3]"
      ]
     },
     "execution_count": 63,
     "metadata": {},
     "output_type": "execute_result"
    }
   ],
   "source": [
    "ham"
   ]
  },
  {
   "cell_type": "code",
   "execution_count": 65,
   "id": "fe0bdb5a-247e-408b-a2f4-89f28dc6f149",
   "metadata": {},
   "outputs": [
    {
     "data": {
      "text/plain": [
       "(2275958131968, 2275958044224)"
      ]
     },
     "execution_count": 65,
     "metadata": {},
     "output_type": "execute_result"
    }
   ],
   "source": [
    "id(bacon), id(ham)"
   ]
  },
  {
   "cell_type": "markdown",
   "id": "ae1e7e91-067e-4db1-9aa7-60198b65c7e9",
   "metadata": {},
   "source": [
    "如果  对象有子列表对象  用deepcopy  不过建议用这个  可以避免一些难以察觉的错误  而且代码的速度没慢很多  \n",
    "不要用可变值作为默认参数  因为是在def执行的时候创建 而不是每次函数调用被创建  所以每次都是那一个  之后的变化都会对其产生影响"
   ]
  },
  {
   "cell_type": "code",
   "execution_count": 74,
   "id": "b89e95cc-c137-4682-a002-e0fee6c49239",
   "metadata": {},
   "outputs": [],
   "source": [
    "def addInterdient(ingredient, sandwich=None):\n",
    "    if sandwich is None:\n",
    "        sandwich = [\"bread\", \"bread\"]\n",
    "    sandwich.insert(1, ingredient)\n",
    "    return sandwich"
   ]
  },
  {
   "cell_type": "code",
   "execution_count": 78,
   "id": "8df634d6-0a35-47b3-9973-6a63d461dba2",
   "metadata": {},
   "outputs": [
    {
     "data": {
      "text/plain": [
       "['bread', 'aaa?', 'bread']"
      ]
     },
     "execution_count": 78,
     "metadata": {},
     "output_type": "execute_result"
    }
   ],
   "source": [
    "firstSandwich = addInterdient(\"aaa?\")\n",
    "firstSandwich"
   ]
  },
  {
   "cell_type": "code",
   "execution_count": 80,
   "id": "61d3bf83-46ed-4183-b179-e7ff72e60049",
   "metadata": {},
   "outputs": [
    {
     "data": {
      "text/plain": [
       "['bread', 'bbb', 'bread']"
      ]
     },
     "execution_count": 80,
     "metadata": {},
     "output_type": "execute_result"
    }
   ],
   "source": [
    "secondSandwich = addInterdient(\"bbb\")\n",
    "secondSandwich"
   ]
  },
  {
   "cell_type": "markdown",
   "id": "05174651-25cf-4367-8ee3-073ad3db86cf",
   "metadata": {},
   "source": [
    "不要通过字符串连接创建字符串  因为每次都会创建一个新的字符串 for、w'h'lie"
   ]
  },
  {
   "cell_type": "code",
   "execution_count": null,
   "id": "2d16efb2-f319-4717-ae92-88b21e7a2fc4",
   "metadata": {},
   "outputs": [],
   "source": [
    "finalString = ''\n",
    "for i in range(100000):\n",
    "    finalString += 'spam'\n",
    "fin"
   ]
  },
  {
   "cell_type": "markdown",
   "id": "1f4ea1b5-a1e3-4977-ae49-4a666e73a2b0",
   "metadata": {},
   "source": [
    "浮点数因为IEEE 754标准的CPU运行所以不完全精准  可以用整数替代小数  例如  30美分 =  0.3美元"
   ]
  },
  {
   "cell_type": "code",
   "execution_count": 88,
   "id": "f6883a12-661f-4848-bcc0-fe5b678359e3",
   "metadata": {},
   "outputs": [
    {
     "data": {
      "text/plain": [
       "0.30000000000000004"
      ]
     },
     "execution_count": 88,
     "metadata": {},
     "output_type": "execute_result"
    }
   ],
   "source": [
    "0.1 + 0.1 + 0.1"
   ]
  },
  {
   "cell_type": "markdown",
   "id": "a664b64b-b7c6-4136-a74d-449de8583893",
   "metadata": {},
   "source": [
    "传入字符串套住的数字 给decimal"
   ]
  },
  {
   "cell_type": "code",
   "execution_count": 90,
   "id": "46ed1539-ba41-4c72-8747-05154c352b47",
   "metadata": {},
   "outputs": [
    {
     "data": {
      "text/plain": [
       "Decimal('0.1000000000000000055511151231257827021181583404541015625')"
      ]
     },
     "execution_count": 90,
     "metadata": {},
     "output_type": "execute_result"
    }
   ],
   "source": [
    "import decimal\n",
    "\n",
    "d = decimal.Decimal(0.1)\n",
    "d"
   ]
  },
  {
   "cell_type": "code",
   "execution_count": 92,
   "id": "9278d3a8-3e3f-4534-88df-0612c619c134",
   "metadata": {},
   "outputs": [
    {
     "data": {
      "text/plain": [
       "Decimal('0.1')"
      ]
     },
     "execution_count": 92,
     "metadata": {},
     "output_type": "execute_result"
    }
   ],
   "source": [
    "d = decimal.Decimal(\"0.1\")\n",
    "d"
   ]
  },
  {
   "cell_type": "markdown",
   "id": "32e04be0-f444-4a4c-bc68-6ee86cd2f622",
   "metadata": {},
   "source": [
    "decimal有28位的精度 可以调节 并且可以和整数操作 因为这个没问题  而不能与浮点数操作"
   ]
  },
  {
   "cell_type": "code",
   "execution_count": 96,
   "id": "31733662-528d-444d-a82e-b1198cc9b2e6",
   "metadata": {},
   "outputs": [
    {
     "data": {
      "text/plain": [
       "28"
      ]
     },
     "execution_count": 96,
     "metadata": {},
     "output_type": "execute_result"
    }
   ],
   "source": [
    "decimal.getcontext().prec"
   ]
  },
  {
   "cell_type": "code",
   "execution_count": 98,
   "id": "ed624b02-638b-4b0a-b4db-432db8ce3e39",
   "metadata": {},
   "outputs": [
    {
     "data": {
      "text/plain": [
       "Decimal('0.33')"
      ]
     },
     "execution_count": 98,
     "metadata": {},
     "output_type": "execute_result"
    }
   ],
   "source": [
    "decimal.getcontext().prec = 2\n",
    "decimal.Decimal(1) / 3"
   ]
  },
  {
   "cell_type": "markdown",
   "id": "48ccdd9e-267c-4fc1-959e-f6a8674b51f7",
   "metadata": {},
   "source": [
    "### 彻底杜绝使用链式法则"
   ]
  },
  {
   "cell_type": "code",
   "execution_count": 112,
   "id": "6b6cf253-9dc7-4486-8bf3-eb88d78811c6",
   "metadata": {},
   "outputs": [
    {
     "data": {
      "text/plain": [
       "True"
      ]
     },
     "execution_count": 112,
     "metadata": {},
     "output_type": "execute_result"
    }
   ],
   "source": [
    "a = \"cat\"\n",
    "b = \"catt\"\n",
    "c = \"cat\"\n",
    "\n",
    "a != b != c"
   ]
  },
  {
   "cell_type": "markdown",
   "id": "46b00ec0-7366-4f22-b20f-ace6c53692fc",
   "metadata": {},
   "source": [
    "仅有一项的元组中添加逗号  不然的话直接变成字符串"
   ]
  },
  {
   "cell_type": "code",
   "execution_count": 107,
   "id": "524902e1-fcdd-41b2-bf5f-83aa605974af",
   "metadata": {},
   "outputs": [
    {
     "data": {
      "text/plain": [
       "('cat',)"
      ]
     },
     "execution_count": 107,
     "metadata": {},
     "output_type": "execute_result"
    }
   ],
   "source": [
    "spam = (\"cat\",)\n",
    "spam"
   ]
  },
  {
   "cell_type": "code",
   "execution_count": null,
   "id": "addfae0c-f985-4ef4-874a-91ca1bf9fc12",
   "metadata": {},
   "outputs": [],
   "source": []
  }
 ],
 "metadata": {
  "kernelspec": {
   "display_name": "Python [conda env:base] *",
   "language": "python",
   "name": "conda-base-py"
  },
  "language_info": {
   "codemirror_mode": {
    "name": "ipython",
    "version": 3
   },
   "file_extension": ".py",
   "mimetype": "text/x-python",
   "name": "python",
   "nbconvert_exporter": "python",
   "pygments_lexer": "ipython3",
   "version": "3.12.7"
  }
 },
 "nbformat": 4,
 "nbformat_minor": 5
}
