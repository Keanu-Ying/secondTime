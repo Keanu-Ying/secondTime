{
 "cells": [
  {
   "cell_type": "code",
   "execution_count": 1,
   "id": "4a640301-f0d0-4cd5-bf80-5f34ae643859",
   "metadata": {},
   "outputs": [],
   "source": [
    "# 启动black格式化\n",
    "%load_ext jupyter_black"
   ]
  },
  {
   "cell_type": "markdown",
   "id": "eb77245a-b007-4cb3-8d68-6b73e14530e1",
   "metadata": {},
   "source": [
    "kernel如果一次 [*]  就得重启 不然全都是[*]"
   ]
  },
  {
   "cell_type": "markdown",
   "id": "fdab8566-7b30-4f91-80ad-156ba08a4767",
   "metadata": {},
   "source": [
    "恢复运行过的代码  history"
   ]
  },
  {
   "cell_type": "code",
   "execution_count": null,
   "id": "8f651e0a-8638-4bf4-afe6-f35ecd5ce6a1",
   "metadata": {},
   "outputs": [],
   "source": []
  },
  {
   "cell_type": "code",
   "execution_count": null,
   "id": "36a8b98b-7f02-45d6-89fc-ae3c24b3e46a",
   "metadata": {},
   "outputs": [],
   "source": []
  }
 ],
 "metadata": {
  "kernelspec": {
   "display_name": "Python [conda env:base] *",
   "language": "python",
   "name": "conda-base-py"
  },
  "language_info": {
   "codemirror_mode": {
    "name": "ipython",
    "version": 3
   },
   "file_extension": ".py",
   "mimetype": "text/x-python",
   "name": "python",
   "nbconvert_exporter": "python",
   "pygments_lexer": "ipython3",
   "version": "3.12.7"
  }
 },
 "nbformat": 4,
 "nbformat_minor": 5
}
