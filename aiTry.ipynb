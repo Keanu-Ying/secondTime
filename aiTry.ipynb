{
 "cells": [
  {
   "cell_type": "code",
   "execution_count": null,
   "id": "d209f06c-5e29-4a21-be3a-0f12712dffd8",
   "metadata": {},
   "outputs": [],
   "source": []
  },
  {
   "cell_type": "code",
   "execution_count": 2,
   "id": "0f0c7e9c-9013-4e4a-9a37-72bd904c81c3",
   "metadata": {},
   "outputs": [
    {
     "name": "stdout",
     "output_type": "stream",
     "text": [
      "   ID      Name  Age        Salary  Experience      Score\n",
      "0   1  Person_1   56  56983.989413          15  36.646878\n",
      "1   2  Person_2   69  48283.711648           0  74.417052\n",
      "2   3  Person_3   46  40928.134199           8  72.093992\n",
      "3   4  Person_4   32  61886.257264          27  30.806079\n",
      "4   5  Person_5   60  57855.321245          26  54.254023\n"
     ]
    }
   ],
   "source": [
    "import pandas as pd\n",
    "import numpy as np\n",
    "\n",
    "# Set random seed for reproducibility\n",
    "np.random.seed(42)\n",
    "\n",
    "# Create random data\n",
    "n_rows = 100\n",
    "data = {\n",
    "    \"ID\": range(1, n_rows + 1),\n",
    "    \"Name\": [f\"Person_{i}\" for i in range(1, n_rows + 1)],\n",
    "    \"Age\": np.random.randint(18, 80, n_rows),\n",
    "    \"Salary\": np.random.normal(50000, 10000, n_rows),\n",
    "    \"Experience\": np.random.randint(0, 30, n_rows),\n",
    "    \"Score\": np.random.uniform(0, 100, n_rows),\n",
    "}\n",
    "\n",
    "# Create DataFrame\n",
    "df = pd.DataFrame(data)\n",
    "\n",
    "# Display first few rows\n",
    "print(df.head())"
   ]
  }
 ],
 "metadata": {
  "kernelspec": {
   "display_name": "Python [conda env:base] *",
   "language": "python",
   "name": "conda-base-py"
  },
  "language_info": {
   "codemirror_mode": {
    "name": "ipython",
    "version": 3
   },
   "file_extension": ".py",
   "mimetype": "text/x-python",
   "name": "python",
   "nbconvert_exporter": "python",
   "pygments_lexer": "ipython3",
   "version": "3.12.7"
  }
 },
 "nbformat": 4,
 "nbformat_minor": 5
}
