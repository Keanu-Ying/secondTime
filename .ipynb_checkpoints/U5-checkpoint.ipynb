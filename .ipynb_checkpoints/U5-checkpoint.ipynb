{
 "cells": [
  {
   "cell_type": "code",
   "execution_count": 4,
   "id": "1edf5145-4bde-4641-b0ab-854d8ece0e02",
   "metadata": {},
   "outputs": [
    {
     "ename": "NotImplementedError",
     "evalue": "",
     "output_type": "error",
     "traceback": [
      "\u001b[1;31m---------------------------------------------------------------------------\u001b[0m",
      "\u001b[1;31mNotImplementedError\u001b[0m                       Traceback (most recent call last)",
      "Cell \u001b[1;32mIn[4], line 4\u001b[0m\n\u001b[0;32m      1\u001b[0m \u001b[38;5;28;01mdef\u001b[39;00m \u001b[38;5;21mzhuangCode\u001b[39m():\n\u001b[0;32m      2\u001b[0m     \u001b[38;5;28;01mraise\u001b[39;00m \u001b[38;5;167;01mNotImplementedError\u001b[39;00m\n\u001b[1;32m----> 4\u001b[0m zhuangCode()\n",
      "Cell \u001b[1;32mIn[4], line 2\u001b[0m, in \u001b[0;36mzhuangCode\u001b[1;34m()\u001b[0m\n\u001b[0;32m      1\u001b[0m \u001b[38;5;28;01mdef\u001b[39;00m \u001b[38;5;21mzhuangCode\u001b[39m():\n\u001b[1;32m----> 2\u001b[0m     \u001b[38;5;28;01mraise\u001b[39;00m \u001b[38;5;167;01mNotImplementedError\u001b[39;00m\n",
      "\u001b[1;31mNotImplementedError\u001b[0m: "
     ]
    }
   ],
   "source": [
    "def zhuangCode():\n",
    "    raise NotImplementedError\n",
    "\n",
    "zhuangCode()"
   ]
  },
  {
   "cell_type": "code",
   "execution_count": 8,
   "id": "f3a0d3f7-cbda-48fb-a4e2-c6dbdca6b587",
   "metadata": {},
   "outputs": [],
   "source": [
    "def zhuangCode():\n",
    "    pass\n",
    "\n",
    "zhuangCode()"
   ]
  },
  {
   "cell_type": "markdown",
   "id": "30a3c5f4-9ba1-4f78-8a45-173f013664b3",
   "metadata": {},
   "source": [
    "创建日志"
   ]
  },
  {
   "cell_type": "code",
   "execution_count": 13,
   "id": "3551ac2b-163d-4d80-bce1-1889324cf35e",
   "metadata": {},
   "outputs": [],
   "source": [
    "import logging\n",
    "logging.basicConfig(filename='logFilename.txt',level=logging.DEBUG)\n",
    "format = '%(asctime)s - %(levelname)s - %(message)s'\n",
    "logging.debug('这是一个日志信息')"
   ]
  },
  {
   "cell_type": "code",
   "execution_count": null,
   "id": "af5dfe67-0c32-4616-8f6c-5a72e379ec7d",
   "metadata": {
    "scrolled": true
   },
   "outputs": [],
   "source": []
  },
  {
   "cell_type": "code",
   "execution_count": null,
   "id": "0b043bae-e21b-4f5b-9cba-2811a4850486",
   "metadata": {},
   "outputs": [],
   "source": []
  }
 ],
 "metadata": {
  "kernelspec": {
   "display_name": "Python [conda env:base] *",
   "language": "python",
   "name": "conda-base-py"
  },
  "language_info": {
   "codemirror_mode": {
    "name": "ipython",
    "version": 3
   },
   "file_extension": ".py",
   "mimetype": "text/x-python",
   "name": "python",
   "nbconvert_exporter": "python",
   "pygments_lexer": "ipython3",
   "version": "3.12.7"
  }
 },
 "nbformat": 4,
 "nbformat_minor": 5
}
