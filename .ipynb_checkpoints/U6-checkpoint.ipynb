{
 "cells": [
  {
   "cell_type": "markdown",
   "id": "0f9aca6d-0c05-489a-bd86-58ea8276560c",
   "metadata": {
    "editable": true,
    "slideshow": {
     "slide_type": ""
    },
    "tags": []
   },
   "source": [
    "高德纳：过早优化不好   可能是因为高速可能的代价是可读性  先能用，再快"
   ]
  },
  {
   "cell_type": "markdown",
   "id": "6e7a4164-6d4e-4cf5-8731-853d15e792a0",
   "metadata": {},
   "source": [
    "### 运行代码自动格式化"
   ]
  },
  {
   "cell_type": "code",
   "execution_count": 80,
   "id": "14c0298c-125b-4b69-8f4f-0b3ef5b0c087",
   "metadata": {},
   "outputs": [
    {
     "name": "stdout",
     "output_type": "stream",
     "text": [
      "The jupyter_black extension is already loaded. To reload it, use:\n",
      "  %reload_ext jupyter_black\n"
     ]
    }
   ],
   "source": [
    "%load_ext jupyter_black"
   ]
  },
  {
   "cell_type": "code",
   "execution_count": 28,
   "id": "c49d69fb-ddb0-46b8-afcb-40ca0d89a292",
   "metadata": {},
   "outputs": [
    {
     "data": {
      "application/json": {
       "cell": {
        "!": "OSMagics",
        "HTML": "Other",
        "SVG": "Other",
        "bash": "Other",
        "capture": "ExecutionMagics",
        "cmd": "Other",
        "code_wrap": "ExecutionMagics",
        "debug": "ExecutionMagics",
        "file": "Other",
        "html": "DisplayMagics",
        "javascript": "DisplayMagics",
        "js": "DisplayMagics",
        "latex": "DisplayMagics",
        "markdown": "DisplayMagics",
        "perl": "Other",
        "prun": "ExecutionMagics",
        "pypy": "Other",
        "python": "Other",
        "python2": "Other",
        "python3": "Other",
        "ruby": "Other",
        "script": "ScriptMagics",
        "sh": "Other",
        "svg": "DisplayMagics",
        "sx": "OSMagics",
        "system": "OSMagics",
        "time": "ExecutionMagics",
        "timeit": "ExecutionMagics",
        "writefile": "OSMagics"
       },
       "line": {
        "alias": "OSMagics",
        "alias_magic": "BasicMagics",
        "autoawait": "AsyncMagics",
        "autocall": "AutoMagics",
        "automagic": "AutoMagics",
        "autosave": "KernelMagics",
        "bookmark": "OSMagics",
        "cd": "OSMagics",
        "clear": "KernelMagics",
        "cls": "KernelMagics",
        "code_wrap": "ExecutionMagics",
        "colors": "BasicMagics",
        "conda": "PackagingMagics",
        "config": "ConfigMagics",
        "connect_info": "KernelMagics",
        "copy": "Other",
        "ddir": "Other",
        "debug": "ExecutionMagics",
        "dhist": "OSMagics",
        "dirs": "OSMagics",
        "doctest_mode": "BasicMagics",
        "echo": "Other",
        "ed": "Other",
        "edit": "KernelMagics",
        "env": "OSMagics",
        "gui": "BasicMagics",
        "hist": "Other",
        "history": "HistoryMagics",
        "killbgscripts": "ScriptMagics",
        "ldir": "Other",
        "less": "KernelMagics",
        "load": "CodeMagics",
        "load_ext": "ExtensionMagics",
        "loadpy": "CodeMagics",
        "logoff": "LoggingMagics",
        "logon": "LoggingMagics",
        "logstart": "LoggingMagics",
        "logstate": "LoggingMagics",
        "logstop": "LoggingMagics",
        "ls": "Other",
        "lsmagic": "BasicMagics",
        "macro": "ExecutionMagics",
        "magic": "BasicMagics",
        "mamba": "PackagingMagics",
        "matplotlib": "PylabMagics",
        "micromamba": "PackagingMagics",
        "mkdir": "Other",
        "more": "KernelMagics",
        "notebook": "BasicMagics",
        "page": "BasicMagics",
        "pastebin": "CodeMagics",
        "pdb": "ExecutionMagics",
        "pdef": "NamespaceMagics",
        "pdoc": "NamespaceMagics",
        "pfile": "NamespaceMagics",
        "pinfo": "NamespaceMagics",
        "pinfo2": "NamespaceMagics",
        "pip": "PackagingMagics",
        "popd": "OSMagics",
        "pprint": "BasicMagics",
        "precision": "BasicMagics",
        "prun": "ExecutionMagics",
        "psearch": "NamespaceMagics",
        "psource": "NamespaceMagics",
        "pushd": "OSMagics",
        "pwd": "OSMagics",
        "pycat": "OSMagics",
        "pylab": "PylabMagics",
        "qtconsole": "KernelMagics",
        "quickref": "BasicMagics",
        "recall": "HistoryMagics",
        "rehashx": "OSMagics",
        "reload_ext": "ExtensionMagics",
        "ren": "Other",
        "rep": "Other",
        "rerun": "HistoryMagics",
        "reset": "NamespaceMagics",
        "reset_selective": "NamespaceMagics",
        "rmdir": "Other",
        "run": "ExecutionMagics",
        "save": "CodeMagics",
        "sc": "OSMagics",
        "set_env": "OSMagics",
        "store": "StoreMagics",
        "sx": "OSMagics",
        "system": "OSMagics",
        "tb": "ExecutionMagics",
        "time": "ExecutionMagics",
        "timeit": "ExecutionMagics",
        "unalias": "OSMagics",
        "unload_ext": "ExtensionMagics",
        "who": "NamespaceMagics",
        "who_ls": "NamespaceMagics",
        "whos": "NamespaceMagics",
        "xdel": "NamespaceMagics",
        "xmode": "BasicMagics"
       }
      },
      "text/plain": [
       "Available line magics:\n",
       "%alias  %alias_magic  %autoawait  %autocall  %automagic  %autosave  %bookmark  %cd  %clear  %cls  %code_wrap  %colors  %conda  %config  %connect_info  %copy  %ddir  %debug  %dhist  %dirs  %doctest_mode  %echo  %ed  %edit  %env  %gui  %hist  %history  %killbgscripts  %ldir  %less  %load  %load_ext  %loadpy  %logoff  %logon  %logstart  %logstate  %logstop  %ls  %lsmagic  %macro  %magic  %mamba  %matplotlib  %micromamba  %mkdir  %more  %notebook  %page  %pastebin  %pdb  %pdef  %pdoc  %pfile  %pinfo  %pinfo2  %pip  %popd  %pprint  %precision  %prun  %psearch  %psource  %pushd  %pwd  %pycat  %pylab  %qtconsole  %quickref  %recall  %rehashx  %reload_ext  %ren  %rep  %rerun  %reset  %reset_selective  %rmdir  %run  %save  %sc  %set_env  %store  %sx  %system  %tb  %time  %timeit  %unalias  %unload_ext  %who  %who_ls  %whos  %xdel  %xmode\n",
       "\n",
       "Available cell magics:\n",
       "%%!  %%HTML  %%SVG  %%bash  %%capture  %%cmd  %%code_wrap  %%debug  %%file  %%html  %%javascript  %%js  %%latex  %%markdown  %%perl  %%prun  %%pypy  %%python  %%python2  %%python3  %%ruby  %%script  %%sh  %%svg  %%sx  %%system  %%time  %%timeit  %%writefile\n",
       "\n",
       "Automagic is ON, % prefix IS NOT needed for line magics."
      ]
     },
     "execution_count": 28,
     "metadata": {},
     "output_type": "execute_result"
    }
   ],
   "source": [
    "%lsmagic"
   ]
  },
  {
   "cell_type": "markdown",
   "id": "396b4a42-3083-4486-855e-faa1b8eccb6c",
   "metadata": {},
   "source": [
    "代码运行一千万次的平均值"
   ]
  },
  {
   "cell_type": "code",
   "execution_count": 18,
   "id": "1cbd9b64-1880-46dd-98b3-81c100c854b4",
   "metadata": {},
   "outputs": [],
   "source": [
    "import timeit"
   ]
  },
  {
   "cell_type": "code",
   "execution_count": 38,
   "id": "d9884878-a23c-49d1-aa15-80cddd9159e2",
   "metadata": {},
   "outputs": [
    {
     "data": {
      "text/plain": [
       "0.08586900006048381"
      ]
     },
     "execution_count": 38,
     "metadata": {},
     "output_type": "execute_result"
    }
   ],
   "source": [
    "timeit.timeit(\"a,b=42,101;a=a^b;b=a^b;a=a^b\")"
   ]
  },
  {
   "cell_type": "code",
   "execution_count": 30,
   "id": "0b005cfc-a44f-4bed-bd03-dbec2d259bfc",
   "metadata": {},
   "outputs": [
    {
     "data": {
      "text/plain": [
       "0.042530199978500605"
      ]
     },
     "execution_count": 30,
     "metadata": {},
     "output_type": "execute_result"
    }
   ],
   "source": [
    "timeit.timeit(\"a,b=42,101;temp=a;a=b;b=temp\")"
   ]
  },
  {
   "cell_type": "code",
   "execution_count": 41,
   "id": "bc7a570c-eea2-4faa-914a-c2c5ad23fa89",
   "metadata": {},
   "outputs": [
    {
     "data": {
      "text/plain": [
       "5.5841264999471605"
      ]
     },
     "execution_count": 41,
     "metadata": {},
     "output_type": "execute_result"
    }
   ],
   "source": [
    "timeit.timeit(\"random.randint(1,100)\", \"import random\", number=10000000)"
   ]
  },
  {
   "cell_type": "markdown",
   "id": "b7a75e92-cb92-41d8-8ba2-aaba14718257",
   "metadata": {},
   "source": [
    "#### 使用enumerate 而不是 range"
   ]
  },
  {
   "cell_type": "code",
   "execution_count": 47,
   "id": "2576c6b3-e0dc-4b4f-a30c-ef6e836cf14d",
   "metadata": {},
   "outputs": [
    {
     "name": "stdout",
     "output_type": "stream",
     "text": [
      "0 cat\n",
      "1 dog\n"
     ]
    }
   ],
   "source": [
    "animals = [\"cat\", \"dog\"]\n",
    "for i, animal in enumerate(animals):\n",
    "    print(i, animal)"
   ]
  },
  {
   "cell_type": "code",
   "execution_count": 49,
   "id": "1731390f-d50a-4dde-9c84-17495efbf810",
   "metadata": {},
   "outputs": [
    {
     "name": "stdout",
     "output_type": "stream",
     "text": [
      "cat\n",
      "dog\n"
     ]
    }
   ],
   "source": [
    "for animal in animals:\n",
    "    print(animal)"
   ]
  },
  {
   "cell_type": "markdown",
   "id": "2a19a7d7-48b7-48b7-9943-839436abd2b8",
   "metadata": {},
   "source": [
    "#### 使用 with 代替 open和close"
   ]
  },
  {
   "cell_type": "code",
   "execution_count": 55,
   "id": "06e572dc-d1ff-4405-92c0-9a9965433dea",
   "metadata": {},
   "outputs": [],
   "source": [
    "with open(\"spam.txt\", \"w\") as fileObj:\n",
    "    fileObj.write(\"Hello,world\")"
   ]
  },
  {
   "cell_type": "markdown",
   "id": "f6e04765-5429-41f8-917d-f4be3b0dacb0",
   "metadata": {},
   "source": [
    "#### 用is和None 作比较 不用 ==  \n",
    "#### 不在True和False下 使用 is  而用  ==\n",
    "#### r是不把反斜杠 视为  转义字符\n",
    "#### 下面是f字符串  "
   ]
  },
  {
   "cell_type": "code",
   "execution_count": 63,
   "id": "9cc282c3-fe3f-489a-9eb6-554fe6617fbe",
   "metadata": {},
   "outputs": [
    {
     "data": {
      "text/plain": [
       "'a 10 by 12 room has an area of 120.'"
      ]
     },
     "execution_count": 63,
     "metadata": {},
     "output_type": "execute_result"
    }
   ],
   "source": [
    "width, length = 10, 12\n",
    "f\"a {width} by {length} room has an area of {width * length}.\""
   ]
  },
  {
   "cell_type": "code",
   "execution_count": 66,
   "id": "74bf3821-c06c-49dd-826d-a7ec4d502567",
   "metadata": {},
   "outputs": [
    {
     "data": {
      "text/plain": [
       "'a 10 by 12 room has an area of {width * length}.'"
      ]
     },
     "execution_count": 66,
     "metadata": {},
     "output_type": "execute_result"
    }
   ],
   "source": [
    "f\"a {width} by {length} room has an area of {{width * length}}.\""
   ]
  },
  {
   "cell_type": "code",
   "execution_count": 76,
   "id": "77579500-39cc-4180-8ac2-2dfe3d2c997c",
   "metadata": {},
   "outputs": [
    {
     "data": {
      "text/plain": [
       "False"
      ]
     },
     "execution_count": 76,
     "metadata": {},
     "output_type": "execute_result"
    }
   ],
   "source": [
    "import copy\n",
    "\n",
    "spam = [\"cat\", \"dog\"]\n",
    "eggs = copy.copy(spam)\n",
    "id(spam) == id(eggs)"
   ]
  },
  {
   "cell_type": "code",
   "execution_count": 91,
   "id": "bf58b49c-9fc5-4b8f-ba15-fe434ed2e326",
   "metadata": {},
   "outputs": [
    {
     "name": "stdout",
     "output_type": "stream",
     "text": [
      "I have 0 cats\n"
     ]
    }
   ],
   "source": [
    "numberOfPets = {\"dogs\": 2}\n",
    "print(f\"I have {numberOfPets.get('cats',0)} cats\")"
   ]
  },
  {
   "cell_type": "code",
   "execution_count": 93,
   "id": "7bca19f4-5ec3-4622-a3b8-7b2b9e01a6f3",
   "metadata": {},
   "outputs": [
    {
     "data": {
      "text/plain": [
       "0"
      ]
     },
     "execution_count": 93,
     "metadata": {},
     "output_type": "execute_result"
    }
   ],
   "source": [
    "numberOfPets.setdefault(\"cats\", 0)  # 如果 cats 存在 则什么也不做"
   ]
  },
  {
   "cell_type": "markdown",
   "id": "d48f5e31-280a-46aa-b04e-36084d8c92b2",
   "metadata": {},
   "source": [
    "#### 使用collection.defaultdict() 设置默认值\n"
   ]
  },
  {
   "cell_type": "code",
   "execution_count": 114,
   "id": "f218de00-a0a0-474d-8ff3-a138c4c620f3",
   "metadata": {},
   "outputs": [
    {
     "data": {
      "text/plain": [
       "defaultdict(int, {})"
      ]
     },
     "execution_count": 114,
     "metadata": {},
     "output_type": "execute_result"
    }
   ],
   "source": [
    "import collections\n",
    "\n",
    "scores = collections.defaultdict(int)\n",
    "scores"
   ]
  },
  {
   "cell_type": "code",
   "execution_count": 116,
   "id": "6906f770-ee38-4e2e-911d-3c4d1b9d82e2",
   "metadata": {},
   "outputs": [
    {
     "data": {
      "text/plain": [
       "defaultdict(int, {'AI': 1})"
      ]
     },
     "execution_count": 116,
     "metadata": {},
     "output_type": "execute_result"
    }
   ],
   "source": [
    "scores[\"AI\"] += 1\n",
    "scores"
   ]
  },
  {
   "cell_type": "code",
   "execution_count": 118,
   "id": "ed64e863-4086-4219-b2a8-5ccb39ebb634",
   "metadata": {},
   "outputs": [
    {
     "data": {
      "text/plain": [
       "0"
      ]
     },
     "execution_count": 118,
     "metadata": {},
     "output_type": "execute_result"
    }
   ],
   "source": [
    "scores[\"Zophie\"]  # 不需要提前设置"
   ]
  },
  {
   "cell_type": "code",
   "execution_count": 120,
   "id": "43562f11-c19d-49a5-a2ed-86b0528aa8f6",
   "metadata": {},
   "outputs": [
    {
     "data": {
      "text/plain": [
       "defaultdict(int, {'AI': 1, 'Zophie': 40})"
      ]
     },
     "execution_count": 120,
     "metadata": {},
     "output_type": "execute_result"
    }
   ],
   "source": [
    "scores[\"Zophie\"] += 40\n",
    "scores"
   ]
  },
  {
   "cell_type": "code",
   "execution_count": 124,
   "id": "645a89ae-7dda-4eb5-abea-1f993847b140",
   "metadata": {},
   "outputs": [
    {
     "data": {
      "text/plain": [
       "defaultdict(list, {'AI': ['原则', '债务危机']})"
      ]
     },
     "execution_count": 124,
     "metadata": {},
     "output_type": "execute_result"
    }
   ],
   "source": [
    "booksReadBy = collections.defaultdict(list)  # 这个就是元素的内在类型\n",
    "booksReadBy[\"AI\"].append(\"原则\")\n",
    "booksReadBy[\"AI\"].append(\"债务危机\")\n",
    "booksReadBy"
   ]
  },
  {
   "cell_type": "markdown",
   "id": "cd7f1eac-25ae-46a9-9c54-702e9b4ec788",
   "metadata": {},
   "source": [
    "#### .get(xx,'不存在返回的东西')\n",
    "#### 三元运算符、条件表达式、三元选择表达式"
   ]
  },
  {
   "cell_type": "code",
   "execution_count": 132,
   "id": "3db08eba-a81f-48ac-b408-e6014f38b75e",
   "metadata": {},
   "outputs": [
    {
     "data": {
      "text/plain": [
       "'Access granted'"
      ]
     },
     "execution_count": 132,
     "metadata": {},
     "output_type": "execute_result"
    }
   ],
   "source": [
    "valueIfTrue = \"Access granted\"\n",
    "valueIfFalse = \"Access denied\"\n",
    "condition = True\n",
    "messgae = valueIfTrue if condition else valueIfFalse\n",
    "messgae"
   ]
  },
  {
   "cell_type": "code",
   "execution_count": 134,
   "id": "55679ef9-86bc-4870-8543-ea9301295199",
   "metadata": {},
   "outputs": [
    {
     "name": "stdout",
     "output_type": "stream",
     "text": [
      "ok\n"
     ]
    }
   ],
   "source": [
    "spam = 55\n",
    "if 40 < spam < 60:\n",
    "    print(\"ok\")"
   ]
  },
  {
   "cell_type": "code",
   "execution_count": 138,
   "id": "b9627cab-7937-4ea2-9234-027b9c18670e",
   "metadata": {},
   "outputs": [
    {
     "name": "stdout",
     "output_type": "stream",
     "text": [
      "hero hero hero\n"
     ]
    }
   ],
   "source": [
    "yq = cjy = zt = \"hero\"\n",
    "print(yq, cjy, zt)"
   ]
  },
  {
   "cell_type": "code",
   "execution_count": 140,
   "id": "955d108c-b738-4a45-960e-3b27c371aa78",
   "metadata": {},
   "outputs": [
    {
     "data": {
      "text/plain": [
       "True"
      ]
     },
     "execution_count": 140,
     "metadata": {},
     "output_type": "execute_result"
    }
   ],
   "source": [
    "yq == cjy == zt == \"hero\""
   ]
  },
  {
   "cell_type": "markdown",
   "id": "58447dcf-07dd-4bf6-b5fa-6ede7d35ce82",
   "metadata": {},
   "source": [
    "#### 验证变量是否为多个值中的一个"
   ]
  },
  {
   "cell_type": "code",
   "execution_count": 145,
   "id": "87e9b8c2-e40b-4019-8732-b483da84cf0f",
   "metadata": {},
   "outputs": [
    {
     "data": {
      "text/plain": [
       "True"
      ]
     },
     "execution_count": 145,
     "metadata": {},
     "output_type": "execute_result"
    }
   ],
   "source": [
    "spam = \"cat\"\n",
    "spam in (\"cat\", \"dog\")"
   ]
  },
  {
   "cell_type": "code",
   "execution_count": null,
   "id": "44e8f976-de17-4c14-866e-cf98dcf95250",
   "metadata": {},
   "outputs": [],
   "source": []
  }
 ],
 "metadata": {
  "kernelspec": {
   "display_name": "Python [conda env:base] *",
   "language": "python",
   "name": "conda-base-py"
  },
  "language_info": {
   "codemirror_mode": {
    "name": "ipython",
    "version": 3
   },
   "file_extension": ".py",
   "mimetype": "text/x-python",
   "name": "python",
   "nbconvert_exporter": "python",
   "pygments_lexer": "ipython3",
   "version": "3.12.7"
  }
 },
 "nbformat": 4,
 "nbformat_minor": 5
}
