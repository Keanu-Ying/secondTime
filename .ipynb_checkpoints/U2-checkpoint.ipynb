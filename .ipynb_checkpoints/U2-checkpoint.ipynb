{
 "cells": [
  {
   "cell_type": "raw",
   "id": "1d2f3dac-7a13-4a82-a4aa-570499d09db9",
   "metadata": {},
   "source": [
    "路径的规范"
   ]
  },
  {
   "cell_type": "code",
   "execution_count": 2,
   "id": "c640dfe2-958b-467d-9e7b-da2a9a55a864",
   "metadata": {},
   "outputs": [],
   "source": [
    "from pathlib import Path"
   ]
  },
  {
   "cell_type": "code",
   "execution_count": 10,
   "id": "19cd6c43-5d35-4147-a46d-6f380dc59e12",
   "metadata": {},
   "outputs": [
    {
     "data": {
      "text/plain": [
       "WindowsPath('spam/bacon/eggs')"
      ]
     },
     "execution_count": 10,
     "metadata": {},
     "output_type": "execute_result"
    }
   ],
   "source": [
    "Path('spam') / 'bacon' / 'eggs'"
   ]
  },
  {
   "cell_type": "code",
   "execution_count": 8,
   "id": "b2578607-85ca-4dc0-b955-34d9c2b63d6d",
   "metadata": {},
   "outputs": [
    {
     "data": {
      "text/plain": [
       "WindowsPath('spam/bacon/eggs')"
      ]
     },
     "execution_count": 8,
     "metadata": {},
     "output_type": "execute_result"
    }
   ],
   "source": [
    "Path('spam') / Path('bacon','eggs')"
   ]
  },
  {
   "cell_type": "code",
   "execution_count": 14,
   "id": "1a9157c5-1077-4e2c-ae7d-1cb821957223",
   "metadata": {},
   "outputs": [
    {
     "data": {
      "text/plain": [
       "WindowsPath('spam/bacon / eggs')"
      ]
     },
     "execution_count": 14,
     "metadata": {},
     "output_type": "execute_result"
    }
   ],
   "source": [
    "Path('spam') / Path('bacon / eggs')"
   ]
  },
  {
   "cell_type": "code",
   "execution_count": null,
   "id": "5a11c82f-0fbb-4e39-9a70-abb91afb031e",
   "metadata": {},
   "outputs": [],
   "source": []
  }
 ],
 "metadata": {
  "kernelspec": {
   "display_name": "Python [conda env:base] *",
   "language": "python",
   "name": "conda-base-py"
  },
  "language_info": {
   "codemirror_mode": {
    "name": "ipython",
    "version": 3
   },
   "file_extension": ".py",
   "mimetype": "text/x-python",
   "name": "python",
   "nbconvert_exporter": "python",
   "pygments_lexer": "ipython3",
   "version": "3.12.7"
  }
 },
 "nbformat": 4,
 "nbformat_minor": 5
}
