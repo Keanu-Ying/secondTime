{
 "cells": [
  {
   "cell_type": "code",
   "execution_count": 14,
   "id": "894dd371-cc54-4018-86b0-4524729a5a27",
   "metadata": {},
   "outputs": [],
   "source": [
    "# 问题1：运算符周围缺少空格\n",
    "x = 1 + 2 * 3\n",
    "\n",
    "\n",
    "# 问题2：函数参数逗号后缺少空格，括号内多余空格\n",
    "def test(a, b, c):\n",
    "    # 问题3：字典键值对冒号后缺少空格，逗号后缺少空格\n",
    "    data = {\"name\": \"John\", \"age\": 30}\n",
    "\n",
    "    # 问题4：长字符串未换行（超过Black默认88字符限制）\n",
    "    long_string = \"This is a very long string that should be split into multiple lines according to Black's rules, but it's written in one line here.\"\n",
    "\n",
    "    # 问题5：列表推导式未换行且缺少空格\n",
    "    squares = [i * i for i in range(10) if i % 2 == 0]\n",
    "\n",
    "    return data, squares, long_string"
   ]
  },
  {
   "cell_type": "code",
   "execution_count": 4,
   "id": "844038a5-9ccd-48f8-bb03-b8d9c3b731a2",
   "metadata": {},
   "outputs": [],
   "source": [
    "import black"
   ]
  },
  {
   "cell_type": "code",
   "execution_count": 12,
   "id": "f6e079bc-e3ed-4a01-a28a-510a7bf5e428",
   "metadata": {},
   "outputs": [],
   "source": [
    "%load_ext jupyter_black "
   ]
  }
 ],
 "metadata": {
  "kernelspec": {
   "display_name": "Python [conda env:base] *",
   "language": "python",
   "name": "conda-base-py"
  },
  "language_info": {
   "codemirror_mode": {
    "name": "ipython",
    "version": 3
   },
   "file_extension": ".py",
   "mimetype": "text/x-python",
   "name": "python",
   "nbconvert_exporter": "python",
   "pygments_lexer": "ipython3",
   "version": "3.12.7"
  }
 },
 "nbformat": 4,
 "nbformat_minor": 5
}
