{
 "cells": [
  {
   "cell_type": "code",
   "execution_count": 13,
   "id": "9f3c30e4-92a9-4544-b7e8-467ecd0858d6",
   "metadata": {},
   "outputs": [],
   "source": [
    "# 启动black格式化\n",
    "%load_ext jupyter_black"
   ]
  },
  {
   "cell_type": "code",
   "execution_count": 7,
   "id": "09f8c605-ce57-49bf-9be8-4bb613a866ce",
   "metadata": {},
   "outputs": [],
   "source": [
    "spam = ['dog']"
   ]
  },
  {
   "cell_type": "markdown",
   "id": "6c4397b7-87d1-4a0a-add2-91b83f65f77e",
   "metadata": {},
   "source": [
    "对象创建的身份"
   ]
  },
  {
   "cell_type": "code",
   "execution_count": 18,
   "id": "88db4ef9-b976-4953-8431-f19c8cb43e40",
   "metadata": {},
   "outputs": [
    {
     "data": {
      "text/plain": [
       "2595525688320"
      ]
     },
     "execution_count": 18,
     "metadata": {},
     "output_type": "execute_result"
    }
   ],
   "source": [
    "id(spam)  # 每次运行程序都不同"
   ]
  },
  {
   "cell_type": "code",
   "execution_count": 20,
   "id": "78de2304-bc2a-4879-a6dd-3353c87919c8",
   "metadata": {},
   "outputs": [],
   "source": [
    "spam.append(\"hell\")"
   ]
  },
  {
   "cell_type": "code",
   "execution_count": 22,
   "id": "7d6740fc-49d3-4ee9-9089-daee79cf13cc",
   "metadata": {},
   "outputs": [
    {
     "data": {
      "text/plain": [
       "['dog', 'hell']"
      ]
     },
     "execution_count": 22,
     "metadata": {},
     "output_type": "execute_result"
    }
   ],
   "source": [
    "spam"
   ]
  },
  {
   "cell_type": "code",
   "execution_count": 24,
   "id": "840248f9-57e2-46dd-b1b4-5ccbf6080920",
   "metadata": {},
   "outputs": [
    {
     "data": {
      "text/plain": [
       "2595525688320"
      ]
     },
     "execution_count": 24,
     "metadata": {},
     "output_type": "execute_result"
    }
   ],
   "source": [
    "id(spam)"
   ]
  },
  {
   "cell_type": "code",
   "execution_count": 26,
   "id": "7d6c5b8a-a774-4fc1-a221-24f97447beb5",
   "metadata": {},
   "outputs": [
    {
     "data": {
      "text/plain": [
       "2595571440448"
      ]
     },
     "execution_count": 26,
     "metadata": {},
     "output_type": "execute_result"
    }
   ],
   "source": [
    "spam = [1, 2, 3]\n",
    "id(spam)"
   ]
  },
  {
   "cell_type": "markdown",
   "id": "1c2fefea-b0f9-4989-96db-7767d86b5c95",
   "metadata": {},
   "source": [
    "指向相同的对象  修改一个等于修改所有"
   ]
  },
  {
   "cell_type": "code",
   "execution_count": 29,
   "id": "3276d045-75a1-4359-bbfd-b7fce9f66aa4",
   "metadata": {},
   "outputs": [
    {
     "data": {
      "text/plain": [
       "2595570463744"
      ]
     },
     "execution_count": 29,
     "metadata": {},
     "output_type": "execute_result"
    }
   ],
   "source": [
    "spma = {\"name\": \"ZO\"}\n",
    "id(spma)"
   ]
  },
  {
   "cell_type": "code",
   "execution_count": 31,
   "id": "abc4322a-b6f9-4cfb-923e-0a51105f2469",
   "metadata": {},
   "outputs": [
    {
     "data": {
      "text/plain": [
       "2595570463744"
      ]
     },
     "execution_count": 31,
     "metadata": {},
     "output_type": "execute_result"
    }
   ],
   "source": [
    "eggs = spma\n",
    "id(eggs)"
   ]
  },
  {
   "cell_type": "code",
   "execution_count": 33,
   "id": "5c3991aa-5f1b-475b-bc5c-588cc8c49d58",
   "metadata": {},
   "outputs": [
    {
     "data": {
      "text/plain": [
       "{'name': 'AI'}"
      ]
     },
     "execution_count": 33,
     "metadata": {},
     "output_type": "execute_result"
    }
   ],
   "source": [
    "spma[\"name\"] = \"AI\"\n",
    "spma"
   ]
  },
  {
   "cell_type": "code",
   "execution_count": 35,
   "id": "8bde4552-c4ac-4905-bc72-cf5fb8a4d618",
   "metadata": {},
   "outputs": [
    {
     "data": {
      "text/plain": [
       "{'name': 'AI'}"
      ]
     },
     "execution_count": 35,
     "metadata": {},
     "output_type": "execute_result"
    }
   ],
   "source": [
    "eggs"
   ]
  },
  {
   "cell_type": "markdown",
   "id": "c1e5de9a-bc8b-490a-92bf-9c795c36b6fa",
   "metadata": {},
   "source": [
    "变量是值得标签   = 是在复试引用 而非对象本身  \n",
    "is 检查身份 约等于  id(x) == id(y)   ==只是检查值是否相同  \n",
    "相同的值 并不一定是相同得对象"
   ]
  },
  {
   "cell_type": "code",
   "execution_count": 41,
   "id": "d304cd75-d225-42a7-9f7c-57d001730865",
   "metadata": {},
   "outputs": [
    {
     "data": {
      "text/plain": [
       "[1, 2, 3]"
      ]
     },
     "execution_count": 41,
     "metadata": {},
     "output_type": "execute_result"
    }
   ],
   "source": [
    "spam"
   ]
  },
  {
   "cell_type": "code",
   "execution_count": 43,
   "id": "857df8ea-8874-4e3c-9a18-0c7e964ab8a9",
   "metadata": {},
   "outputs": [
    {
     "data": {
      "text/plain": [
       "True"
      ]
     },
     "execution_count": 43,
     "metadata": {},
     "output_type": "execute_result"
    }
   ],
   "source": [
    "eggs = spam\n",
    "eggs is spam"
   ]
  },
  {
   "cell_type": "code",
   "execution_count": 45,
   "id": "5606f913-b7a9-4103-9888-b8b534b20775",
   "metadata": {},
   "outputs": [
    {
     "data": {
      "text/plain": [
       "[1, 2, 3]"
      ]
     },
     "execution_count": 45,
     "metadata": {},
     "output_type": "execute_result"
    }
   ],
   "source": [
    "eee = [1, 2, 3]\n",
    "eee"
   ]
  },
  {
   "cell_type": "code",
   "execution_count": 47,
   "id": "e24fb4e4-56d2-448b-9b09-1e65bcd598d5",
   "metadata": {},
   "outputs": [
    {
     "data": {
      "text/plain": [
       "False"
      ]
     },
     "execution_count": 47,
     "metadata": {},
     "output_type": "execute_result"
    }
   ],
   "source": [
    "spam is eee"
   ]
  },
  {
   "cell_type": "markdown",
   "id": "5862e314-0adc-45a3-8c7e-98f150b60245",
   "metadata": {},
   "source": [
    "子对象 = 项  \n",
    "只是引用的对象变了  而不是改变值"
   ]
  },
  {
   "cell_type": "code",
   "execution_count": 52,
   "id": "a50953a4-107b-47e2-a25d-4a524077f3e3",
   "metadata": {},
   "outputs": [
    {
     "data": {
      "text/plain": [
       "2595501457344"
      ]
     },
     "execution_count": 52,
     "metadata": {},
     "output_type": "execute_result"
    }
   ],
   "source": [
    "spma = \"hello\"\n",
    "id(spma)"
   ]
  },
  {
   "cell_type": "code",
   "execution_count": 54,
   "id": "c5da4823-25dd-4158-95b3-2bade2d0d91b",
   "metadata": {},
   "outputs": [
    {
     "data": {
      "text/plain": [
       "140729084426488"
      ]
     },
     "execution_count": 54,
     "metadata": {},
     "output_type": "execute_result"
    }
   ],
   "source": [
    "spma = 123\n",
    "id(spma)"
   ]
  },
  {
   "cell_type": "markdown",
   "id": "3dbdb548-16b8-44b3-a547-8506fcb863dc",
   "metadata": {},
   "source": [
    "不过可变对象的值是可以原地改变  可以这么理解   []这种东西可以装的内容的数量级是无穷尽的  当然int也是 只不过数量级不同"
   ]
  },
  {
   "cell_type": "code",
   "execution_count": 57,
   "id": "246cdac0-f505-4cf3-8e31-2ce50850fe47",
   "metadata": {},
   "outputs": [
    {
     "data": {
      "text/plain": [
       "2595572190336"
      ]
     },
     "execution_count": 57,
     "metadata": {},
     "output_type": "execute_result"
    }
   ],
   "source": [
    "spma = [\"dog\"]\n",
    "id(spma)"
   ]
  },
  {
   "cell_type": "code",
   "execution_count": 59,
   "id": "ec5e7b61-fe3e-4dce-b44a-3afb3e18c1d0",
   "metadata": {},
   "outputs": [
    {
     "data": {
      "text/plain": [
       "['snake', 'moose']"
      ]
     },
     "execution_count": 59,
     "metadata": {},
     "output_type": "execute_result"
    }
   ],
   "source": [
    "spma.append(\"moose\")\n",
    "spma[0] = \"snake\"\n",
    "spma"
   ]
  },
  {
   "cell_type": "markdown",
   "id": "72edddb5-ae45-441e-818e-775c4b3cca74",
   "metadata": {},
   "source": [
    "不过使用  + 运算 连接新对象会创建新的对象  \n",
    "其实我也不是很关心id是否改变  需要的话 到时候查一下id？  \n",
    "虽然元组的id不变 但是元组内部的可变量 比如list  可以变哈"
   ]
  },
  {
   "cell_type": "code",
   "execution_count": 64,
   "id": "34673a50-f948-432e-890b-598cfd02e46b",
   "metadata": {},
   "outputs": [
    {
     "data": {
      "text/plain": [
       "'e'"
      ]
     },
     "execution_count": 64,
     "metadata": {},
     "output_type": "execute_result"
    }
   ],
   "source": [
    "\"eload a\"[0]"
   ]
  },
  {
   "cell_type": "code",
   "execution_count": 66,
   "id": "714c5681-f105-4117-acd0-3993f37fd9a2",
   "metadata": {},
   "outputs": [
    {
     "data": {
      "text/plain": [
       "' '"
      ]
     },
     "execution_count": 66,
     "metadata": {},
     "output_type": "execute_result"
    }
   ],
   "source": [
    "\"eload a\"[5]"
   ]
  },
  {
   "cell_type": "markdown",
   "id": "0a05bb35-87ad-4dd9-bbfb-b6b961d6ef48",
   "metadata": {},
   "source": [
    "哈希hash值 是某个值的‘指纹’ DNA  不可变对象都是可哈希的  \n",
    "可哈希的  都可以成为字典的键\n",
    "哈希值不同于身份  具有相同值得不同对象得身份是不同得   但是哈希值是相同的  \n",
    "可以说  哈希针对值  而对象就是值  但是变量  就是一个引用  id是指向对象的"
   ]
  },
  {
   "cell_type": "code",
   "execution_count": 69,
   "id": "45016331-0b77-4f31-bd53-3916a39b311b",
   "metadata": {},
   "outputs": [
    {
     "data": {
      "text/plain": [
       "322818021289917443"
      ]
     },
     "execution_count": 69,
     "metadata": {},
     "output_type": "execute_result"
    }
   ],
   "source": [
    "hash(3.14)"
   ]
  },
  {
   "cell_type": "code",
   "execution_count": 71,
   "id": "77f4110a-47f0-4d16-b849-acd8f6b64ac2",
   "metadata": {},
   "outputs": [
    {
     "ename": "TypeError",
     "evalue": "unhashable type: 'list'",
     "output_type": "error",
     "traceback": [
      "\u001b[1;31m---------------------------------------------------------------------------\u001b[0m",
      "\u001b[1;31mTypeError\u001b[0m                                 Traceback (most recent call last)",
      "Cell \u001b[1;32mIn[71], line 1\u001b[0m\n\u001b[1;32m----> 1\u001b[0m \u001b[38;5;28mhash\u001b[39m([\u001b[38;5;241m1\u001b[39m,\u001b[38;5;241m2\u001b[39m])\n",
      "\u001b[1;31mTypeError\u001b[0m: unhashable type: 'list'"
     ]
    }
   ],
   "source": [
    "hash([1,2])"
   ]
  },
  {
   "cell_type": "code",
   "execution_count": 76,
   "id": "94d3016b-9d72-43ed-a51a-3fc0f4437322",
   "metadata": {},
   "outputs": [
    {
     "data": {
      "text/plain": [
       "dict_keys(['a', 'b'])"
      ]
     },
     "execution_count": 76,
     "metadata": {},
     "output_type": "execute_result"
    }
   ],
   "source": [
    "spam = {\"a\": 1, \"b\": 2}\n",
    "spam.keys()"
   ]
  },
  {
   "cell_type": "code",
   "execution_count": 78,
   "id": "ebcfa2b9-f496-4d84-a9b7-e321fad9a30e",
   "metadata": {},
   "outputs": [
    {
     "data": {
      "text/plain": [
       "['a', 'b']"
      ]
     },
     "execution_count": 78,
     "metadata": {},
     "output_type": "execute_result"
    }
   ],
   "source": [
    "list(spam)"
   ]
  },
  {
   "cell_type": "markdown",
   "id": "705753a0-b88b-40bd-b7f4-7711de4d8782",
   "metadata": {},
   "source": [
    "dunder = double underscore  双下划线   \n",
    "广为人知的  __init__  作用是初始化对象  "
   ]
  },
  {
   "cell_type": "markdown",
   "id": "84853986-487d-4aa3-85c1-e7673ff49912",
   "metadata": {},
   "source": [
    "模块是可以被其他Python程序导入，将代码提供给导入者使用的程序  \n",
    "python自带的模块  =  python的标准库   也可以创建自己的模块  \n",
    "e.g.一个程序保存为  spam.py  可以通过 import spam  来访问其中的函数、类、最上层的变量\n",
    "\n",
    "包就是模块的集合  通过在文件夹放置一个名为  __init__.py  的文件就可以形成一个包   文件夹的名称就是包的名称  包可以包含其他包和多个模块"
   ]
  },
  {
   "cell_type": "code",
   "execution_count": 84,
   "id": "70263f7e-0452-4c97-952e-415b36a9fe4a",
   "metadata": {},
   "outputs": [],
   "source": [
    "def spam():\n",
    "    print(\"上岸！ 上岸！ 上岸！\")"
   ]
  },
  {
   "cell_type": "code",
   "execution_count": 86,
   "id": "fb20f98e-2bde-4894-8ab7-baaeb52b0742",
   "metadata": {},
   "outputs": [
    {
     "name": "stdout",
     "output_type": "stream",
     "text": [
      "上岸！ 上岸！ 上岸！\n"
     ]
    }
   ],
   "source": [
    "spam()"
   ]
  },
  {
   "cell_type": "code",
   "execution_count": 88,
   "id": "eea65644-66f4-49c0-a7a1-5e56e93f21ae",
   "metadata": {},
   "outputs": [
    {
     "name": "stdout",
     "output_type": "stream",
     "text": [
      "上岸！ 上岸！ 上岸！\n"
     ]
    }
   ],
   "source": [
    "eggs = spam\n",
    "eggs()"
   ]
  },
  {
   "cell_type": "code",
   "execution_count": 90,
   "id": "4a438990-380c-4271-afee-7f070681cee4",
   "metadata": {},
   "outputs": [],
   "source": [
    "def callTwice(func):\n",
    "    func()\n",
    "    func()"
   ]
  },
  {
   "cell_type": "code",
   "execution_count": 92,
   "id": "2abb5684-d19d-4852-bbbc-c48f9d36abe3",
   "metadata": {},
   "outputs": [
    {
     "name": "stdout",
     "output_type": "stream",
     "text": [
      "上岸！ 上岸！ 上岸！\n",
      "上岸！ 上岸！ 上岸！\n"
     ]
    }
   ],
   "source": [
    "callTwice(spam)"
   ]
  },
  {
   "cell_type": "markdown",
   "id": "4906d616-b76b-4c80-a03c-2e149672f365",
   "metadata": {},
   "source": [
    "块、子句就是两种不同的表达形式    主体是子句中的一部分"
   ]
  },
  {
   "cell_type": "code",
   "execution_count": 95,
   "id": "8e244c59-d708-45a1-be29-a2ec752b2b60",
   "metadata": {},
   "outputs": [
    {
     "data": {
      "text/plain": [
       "datetime.datetime(2025, 2, 23, 17, 7, 49, 184435)"
      ]
     },
     "execution_count": 95,
     "metadata": {},
     "output_type": "execute_result"
    }
   ],
   "source": [
    "import datetime\n",
    "\n",
    "spam = datetime.datetime.now()\n",
    "spam"
   ]
  },
  {
   "cell_type": "code",
   "execution_count": 101,
   "id": "d20fb8e1-4131-4191-b67e-6910209b2666",
   "metadata": {},
   "outputs": [
    {
     "data": {
      "text/plain": [
       "2025"
      ]
     },
     "execution_count": 101,
     "metadata": {},
     "output_type": "execute_result"
    }
   ],
   "source": [
    "spam.year  # 这个year是特性"
   ]
  },
  {
   "cell_type": "markdown",
   "id": "a7f9479f-ea02-483e-b020-12795dfc7416",
   "metadata": {},
   "source": [
    "函数是在调用时被执行的代码的集合  方法是与类相关联的函数or叫做一个可调用的函数  \n",
    "函数"
   ]
  },
  {
   "cell_type": "code",
   "execution_count": 104,
   "id": "cedbb911-85b9-47f9-bac7-ac03652e4ae2",
   "metadata": {},
   "outputs": [
    {
     "data": {
      "text/plain": [
       "3"
      ]
     },
     "execution_count": 104,
     "metadata": {},
     "output_type": "execute_result"
    }
   ],
   "source": [
    "len(\"wew\")"
   ]
  },
  {
   "cell_type": "markdown",
   "id": "ad3ae100-e6b7-4ab0-be66-591bbc506c94",
   "metadata": {},
   "source": [
    "方法"
   ]
  },
  {
   "cell_type": "code",
   "execution_count": 108,
   "id": "09079dba-78a4-4df9-aa8c-b3942280f4a5",
   "metadata": {},
   "outputs": [
    {
     "data": {
      "text/plain": [
       "'WEW'"
      ]
     },
     "execution_count": 108,
     "metadata": {},
     "output_type": "execute_result"
    }
   ],
   "source": [
    "\"wew\".upper()"
   ]
  },
  {
   "cell_type": "markdown",
   "id": "be32bd35-a04f-4c44-afbd-86f83949b129",
   "metadata": {},
   "source": [
    "出现句点并不一定就是方法  sqrt是math中的，而math不是一个类"
   ]
  },
  {
   "cell_type": "code",
   "execution_count": 111,
   "id": "bcb50361-4403-4e17-968c-7c0c499a7f77",
   "metadata": {},
   "outputs": [
    {
     "data": {
      "text/plain": [
       "5.0"
      ]
     },
     "execution_count": 111,
     "metadata": {},
     "output_type": "execute_result"
    }
   ],
   "source": [
    "import math\n",
    "\n",
    "math.sqrt(25)"
   ]
  },
  {
   "cell_type": "markdown",
   "id": "b27e5aa7-766a-428f-a27a-f7b4de2c0d14",
   "metadata": {},
   "source": [
    "库  第三方制作的代码的之和  \n",
    "框架  根据需要调用开发人原创的函数  不俗hi开发人员调用框架中的函数  \n",
    "软件开发套件SDK 包括代码库、文档和软件工具  \n",
    "引擎  大型独立的系统  进行外部控制 调用函数执行复杂任务  \n",
    "应用程序接口 API  是 库、SDK、框架or引擎的对外接口  规定了如何调用函数or向库提出访问资源的请求"
   ]
  }
 ],
 "metadata": {
  "kernelspec": {
   "display_name": "Python [conda env:base] *",
   "language": "python",
   "name": "conda-base-py"
  },
  "language_info": {
   "codemirror_mode": {
    "name": "ipython",
    "version": 3
   },
   "file_extension": ".py",
   "mimetype": "text/x-python",
   "name": "python",
   "nbconvert_exporter": "python",
   "pygments_lexer": "ipython3",
   "version": "3.12.7"
  }
 },
 "nbformat": 4,
 "nbformat_minor": 5
}
